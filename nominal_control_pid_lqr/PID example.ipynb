{
 "cells": [
  {
   "cell_type": "code",
   "execution_count": 221,
   "metadata": {},
   "outputs": [],
   "source": [
    "%matplotlib inline\n",
    "import matplotlib.pyplot as plt\n",
    "import numpy as np\n",
    "import scipy.linalg as la\n",
    "#plt.rcParams['figure.figsize'] = (6, 6)"
   ]
  },
  {
   "cell_type": "code",
   "execution_count": 206,
   "metadata": {},
   "outputs": [],
   "source": [
    "numerator = np.array([4,-1,20]) #4x**2-x+20\n",
    "denumerator = np.array([4,1])\n",
    "simple_model = lambda x:(np.dot(np.array([x**i for i in range(len(numerator)-1, -1, -1)]), numerator))/ \\\n",
    "                          (np.dot(np.array([x**i for i in range(len(denumerator)-1, -1, -1)]), denumerator))"
   ]
  },
  {
   "cell_type": "code",
   "execution_count": 220,
   "metadata": {},
   "outputs": [],
   "source": [
    "class PID(object):\n",
    "    \"\"\"\n",
    "    Discrete PID control\n",
    "    \"\"\"\n",
    "\n",
    "    def __init__(self, set_point, P=2.0, I=0.0, D=1.0, integrator_max=500, integrator_min=-500):\n",
    "\n",
    "        self.Kp=P\n",
    "        self.Ki=I\n",
    "        self.Kd=D\n",
    "        \n",
    "        self._out_max=integrator_max\n",
    "        self._out_min=integrator_min\n",
    "\n",
    "        self.set_point=set_point\n",
    "        self.last_value = 0.0\n",
    "        self.error=0.0\n",
    "        self.integral = 0.0\n",
    "        self.prev_error = 0.0\n",
    "\n",
    "    def update(self,current_value, dt=1):\n",
    "        \"\"\"\n",
    "        Calculate PID output value for given reference input and feedback\n",
    "        assumes each step is one time step\n",
    "        \"\"\"\n",
    "\n",
    "        self.error = self.set_point - current_value\n",
    "\n",
    "        # In order to prevent windup, only integrate if the process is not saturated\n",
    "        if self.last_value < self._out_max and self.last_value > self._out_min:\n",
    "            self.integral = self.integral + self.error * dt\n",
    "            self.integral = min(self.integral, self._out_max)\n",
    "            self.integral = max(self.integral, self._out_min)\n",
    "        \n",
    "        self.derivative = (self.error - self.prev_error) / dt\n",
    "\n",
    "        PID = self.Kp * self.error + self.Ki * self.integral + self.Kd * self.derivative\n",
    "        self.last_value = PID\n",
    "        self.prev_error = self.error\n",
    "\n",
    "        return PID"
   ]
  },
  {
   "cell_type": "code",
   "execution_count": 219,
   "metadata": {},
   "outputs": [
    {
     "data": {
      "text/plain": [
       "<matplotlib.legend.Legend at 0x25afba0f828>"
      ]
     },
     "execution_count": 219,
     "metadata": {},
     "output_type": "execute_result"
    },
    {
     "data": {
      "image/png": "[encoded data removed]",
      "text/plain": [
       "<matplotlib.figure.Figure at 0x25afa0d57b8>"
      ]
     },
     "metadata": {},
     "output_type": "display_data"
    }
   ],
   "source": [
    "REQUESTED_VAL = 50.0\n",
    "STEPS = 50\n",
    "pid_controller = PID(REQUESTED_VAL, P=0.65, I=0.6, D=0.2)\n",
    "model_val = 25.00\n",
    "model_values = [model_val]\n",
    "for t in range(1,STEPS):\n",
    "    model_val = simple_model(model_val)\n",
    "    model_values.append(model_val)\n",
    "    model_val += pid_controller.update(model_val)\n",
    "plt.plot(range(STEPS), model_values, label=\"PID regulated\")    \n",
    "plt.plot(range(STEPS), [REQUESTED_VAL]*STEPS, label=\"Desired output\")\n",
    "plt.legend()"
   ]
  },
  {
   "cell_type": "code",
   "execution_count": 229,
   "metadata": {},
   "outputs": [],
   "source": [
    "class LQR(object):\n",
    "    \"\"\"\n",
    "    Discrete LQR control\n",
    "    \"\"\"\n",
    "\n",
    "    def __init__(self, Q=np.eye(2), R=np.eye(1)):\n",
    "\n",
    "        self.Kopt = 0.0\n",
    "        self.Q = Q\n",
    "        self.R = R\n",
    "\n",
    "    def calc_kopt(self, Ad, Bd, dt=1.0):\n",
    "        \"\"\"Solve the discrete time lqr controller.\n",
    "        x[k+1] = Ad x[k] + Bd u[k]\n",
    "        cost = sum x[k].T*Q*x[k] + u[k].T*R*u[k]\n",
    "        # ref Bertsekas, p.151\n",
    "        \"\"\"\n",
    "        n = len(Bd)\n",
    "        # continuous\n",
    "        Ac = (Ad - np.eye(n)) / dt\n",
    "        Bc = Bd / dt\n",
    "        # Hamiltonian\n",
    "        Ham = np.vstack(\n",
    "            (np.hstack((Ac, - Bc * la.inv(self.R) * Bc.T)),\n",
    "             np.hstack((-self.Q, -Ac.T))))\n",
    "        eigVals, eigVecs = la.eig(Ham)\n",
    "\n",
    "        V1 = None\n",
    "        V2 = None\n",
    "        for i in range(2 * n):\n",
    "            if eigVals[i].real < 0:\n",
    "                if V1 is None:\n",
    "                    V1 = eigVecs[0:n, i]\n",
    "                    V2 = eigVecs[n:2 * n, i]\n",
    "                else:\n",
    "                    V1 = np.vstack((V1, eigVecs[0:n, i]))\n",
    "                    V2 = np.vstack((V2, eigVecs[n:2 * n, i]))\n",
    "        V1 = np.matrix(V1.T)\n",
    "        V2 = np.matrix(V2.T)\n",
    "        P = (V2 * la.inv(V1)).real\n",
    "        K = la.inv(self.R) * Bc.T * P\n",
    "        self.Kopt = K\n",
    "        return K\n",
    "\n",
    "    def do_step(self,x):\n",
    "        u = -self.Kopt * x\n",
    "        return u\n",
    "# see also MPC (process has 2 params-past+control signal, minimize control signal)"
   ]
  },
  {
   "cell_type": "code",
   "execution_count": 266,
   "metadata": {},
   "outputs": [
    {
     "data": {
      "text/plain": [
       "<matplotlib.legend.Legend at 0x25afd46c588>"
      ]
     },
     "execution_count": 266,
     "metadata": {},
     "output_type": "execute_result"
    },
    {
     "data": {
      "image/png": "[encoded data removed]",
      "text/plain": [
       "<matplotlib.figure.Figure at 0x25afd34f6d8>"
      ]
     },
     "metadata": {},
     "output_type": "display_data"
    }
   ],
   "source": [
    "A = np.matrix([[1.0, 1.0], [0, 1.0]])\n",
    "B = np.matrix([0.0, 1.0]).T\n",
    "def process(x, u): #LQR tries to regulate the process\n",
    "    x = A * x + B * u\n",
    "    return (x)\n",
    "\n",
    "lqr_controller = LQR(Q= np.matrix([[1.0, 0.0], [0.0, 1.0]]), R=np.eye(1))\n",
    "lqr_controller.calc_kopt(A, B)\n",
    "\n",
    "REQUESTED_VAL = 50.0\n",
    "STEPS = 50\n",
    "model_val = x = np.matrix([25, 25]).T\n",
    "model_values_x = [model_val[0,0]]\n",
    "model_values_y = [model_val[1,0]]\n",
    "control_inputs = [0]\n",
    "for t in range(1,STEPS):\n",
    "    u = lqr_controller.do_step(model_val)\n",
    "    model_val = process(model_val, u[0, 0])\n",
    "    model_values_x.append(model_val[0,0])\n",
    "    model_values_y.append(model_val[1,0])\n",
    "    control_inputs.append(u)\n",
    "plt.plot(range(STEPS), model_values_x, label=\"X\")\n",
    "plt.plot(range(STEPS), model_values_y, label=\"Y\")\n",
    "plt.plot(range(STEPS), control_inputs, label=\"LQR u\")\n",
    "plt.legend()"
   ]
  },
  {
   "cell_type": "code",
   "execution_count": null,
   "metadata": {
    "collapsed": true
   },
   "outputs": [],
   "source": []
  }
 ],
 "metadata": {
  "kernelspec": {
   "display_name": "Python 3",
   "language": "python",
   "name": "python3"
  },
  "language_info": {
   "codemirror_mode": {
    "name": "ipython",
    "version": 3
   },
   "file_extension": ".py",
   "mimetype": "text/x-python",
   "name": "python",
   "nbconvert_exporter": "python",
   "pygments_lexer": "ipython3",
   "version": "3.6.3"
  }
 },
 "nbformat": 4,
 "nbformat_minor": 2
}
